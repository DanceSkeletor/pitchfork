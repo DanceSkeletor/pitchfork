{
 "cells": [
  {
   "cell_type": "code",
   "execution_count": null,
   "metadata": {},
   "outputs": [],
   "source": []
  }
 ],
 "metadata": {
  "kernelspec": {
   "display_name": "Python 3.9.12 ('base')",
   "language": "python",
   "name": "python3"
  },
  "language_info": {
   "name": "python",
   "version": "3.9.12"
  },
  "orig_nbformat": 4,
  "vscode": {
   "interpreter": {
    "hash": "ae80eaa32a53a41e7ad388772b2b50e61717a918d41c1289459a7c68f0e9ec48"
   }
  }
 },
 "nbformat": 4,
 "nbformat_minor": 2
}

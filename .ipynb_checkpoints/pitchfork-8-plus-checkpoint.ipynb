{
 "cells": [
  {
   "cell_type": "markdown",
   "metadata": {},
   "source": [
    "# Webscraping from Pitchfork"
   ]
  },
  {
   "cell_type": "markdown",
   "metadata": {},
   "source": [
    "In this project we are going to scrape information about the album reviews on Pitchfork.com"
   ]
  },
  {
   "cell_type": "code",
   "execution_count": 5,
   "metadata": {},
   "outputs": [],
   "source": [
    "import pandas as pd\n",
    "import os\n",
    "import io\n",
    "import matplotlib.pyplot as plt\n",
    "import requests\n",
    "import numpy as np\n",
    "from bs4 import BeautifulSoup"
   ]
  },
  {
   "cell_type": "code",
   "execution_count": 6,
   "metadata": {},
   "outputs": [],
   "source": [
    "base_url = \"https://pitchfork.com\"\n",
    "section_url = \"/best/high-scoring-albums/\"\n",
    "album_url = \"\"\n",
    "\n",
    "page = 1"
   ]
  },
  {
   "cell_type": "code",
   "execution_count": 7,
   "metadata": {},
   "outputs": [],
   "source": [
    "html_content = requests.get(base_url + section_url + \"?page=\" + str(page)).text\n",
    "\n",
    "html_soup = BeautifulSoup(html_content, 'html.parser')\n"
   ]
  },
  {
   "cell_type": "code",
   "execution_count": 18,
   "metadata": {},
   "outputs": [],
   "source": [
    "#print(html_soup.prettify())"
   ]
  },
  {
   "cell_type": "code",
   "execution_count": 9,
   "metadata": {},
   "outputs": [],
   "source": [
    "album_container_list = html_soup.find_all('div', 'review')\n",
    "#album_container_list"
   ]
  },
  {
   "cell_type": "code",
   "execution_count": 19,
   "metadata": {},
   "outputs": [],
   "source": [
    "#album_container_list"
   ]
  },
  {
   "cell_type": "code",
   "execution_count": 20,
   "metadata": {},
   "outputs": [
    {
     "name": "stdout",
     "output_type": "stream",
     "text": [
      "None\n",
      "{'artist': '$ilkMoney', 'authors': 'Dylan Green', 'datetime': '2022-11-23T05:00:00', 'genre': 'Rap', 'title': 'I Don’t Give a Fuck About This Rap Shit, Imma Just Drop Until I Don’t Feel Like It Anymore', 'url': 'https://pitchfork.com/reviews/albums/silkmoney-i-dont-give-a-fuck-about-this-rap-shit-imma-just-drop-until-i-dont-feel-like-it-anymore/'}\n",
      "<div class=\"ScoreCircle-cIILhI hUIQbu\"><p class=\"BaseWrap-sc-UrHlS BaseText-fFrHpW Rating-cIWDua boMZdO ehZJoO ZYOlC\">9.0</p></div>\n",
      "{'artist': 'Living Colour', 'authors': 'Stuart Berman', 'datetime': '2022-11-20T05:00:00', 'genre': 'Rock', 'title': 'Vivid', 'url': 'https://pitchfork.com/reviews/albums/living-colour-vivid/'}\n",
      "<div class=\"ScoreCircle-cIILhI hUIQbu\"><p class=\"BaseWrap-sc-UrHlS BaseText-fFrHpW Rating-cIWDua boMZdO ehZJoO ZYOlC\">8.0</p></div>\n",
      "{'artist': 'The Menzingers', 'authors': 'Anna Gaca', 'datetime': '2022-11-19T05:00:00', 'genre': 'Rock', 'title': 'On the Impossible Past (10th Anniversary Edition)', 'url': 'https://pitchfork.com/reviews/albums/the-menzingers-on-the-impossible-past-10th-anniversary-edition/'}\n",
      "None\n",
      "{'artist': 'Weyes Blood', 'authors': 'Andy Cush', 'datetime': '2022-11-18T05:04:00', 'genre': 'Rock', 'title': 'And in the Darkness, Hearts Aglow\\xa0', 'url': 'https://pitchfork.com/reviews/albums/weyes-blood-and-in-the-darkness-hearts-aglow/'}\n",
      "<div class=\"ScoreCircle-cIILhI hUIQbu\"><p class=\"BaseWrap-sc-UrHlS BaseText-fFrHpW Rating-cIWDua boMZdO ehZJoO ZYOlC\">8.0</p></div>\n",
      "{'artist': 'Duval Timothy', 'authors': 'Philip Sherburne', 'datetime': '2022-11-17T05:03:00', 'genre': 'Experimental', 'title': 'Meeting With a Judas Tree', 'url': 'https://pitchfork.com/reviews/albums/duval-timothy-meeting-with-a-judas-tree/'}\n",
      "None\n",
      "{'artist': 'Dream Unending', 'authors': 'Sam Sodomsky', 'datetime': '2022-11-15T05:03:00', 'genre': 'Metal', 'title': 'Song of Salvation', 'url': 'https://pitchfork.com/reviews/albums/dream-unending-song-of-salvation/'}\n",
      "None\n",
      "{'artist': 'CEO Trayle', 'authors': 'Alphonse Pierre', 'datetime': '2022-11-14T05:03:00', 'genre': 'Rap', 'title': 'HH5', 'url': 'https://pitchfork.com/reviews/albums/ceo-trayle-hh5/'}\n",
      "<div class=\"ScoreCircle-cIILhI hUIQbu\"><p class=\"BaseWrap-sc-UrHlS BaseText-fFrHpW Rating-cIWDua boMZdO ehZJoO ZYOlC\">8.1</p></div>\n",
      "{'artist': 'John Mellencamp', 'authors': 'Stephen Thomas Erlewine', 'datetime': '2022-11-14T05:02:00', 'genre': 'Rock', 'title': 'Scarecrow (Deluxe Edition)', 'url': 'https://pitchfork.com/reviews/albums/john-mellencamp-scarecrow-deluxe-edition/'}\n",
      "None\n",
      "{'artist': 'Jeff Parker', 'authors': 'Daniel Felsenthal', 'datetime': '2022-11-12T05:00:00', 'genre': 'Jazz', 'title': 'Mondays at the Enfield Tennis Academy', 'url': 'https://pitchfork.com/reviews/albums/jeff-parker-mondays-at-the-enfield-tennis-academy/'}\n",
      "None\n",
      "{'artist': 'Dawn RichardSpencer Zahn', 'authors': 'Sam Goldner', 'datetime': '2022-11-09T05:03:00', 'genre': 'Pop/R&B', 'title': 'Pigments', 'url': 'https://pitchfork.com/reviews/albums/dawn-richard-spencer-zahn-pigments/'}\n",
      "<div class=\"ScoreCircle-cIILhI hUIQbu\"><p class=\"BaseWrap-sc-UrHlS BaseText-fFrHpW Rating-cIWDua boMZdO ehZJoO ZYOlC\">8.2</p></div>\n",
      "{'artist': 'Sigur Rós', 'authors': 'Brian Howe', 'datetime': '2022-11-05T04:00:00', 'genre': 'Rock', 'title': '( ) 20th Anniversary Edition', 'url': 'https://pitchfork.com/reviews/albums/sigur-ros-untitled/'}\n",
      "None\n",
      "{'artist': 'Special Interest', 'authors': 'Sasha Geffen', 'datetime': '2022-11-04T04:03:00', 'genre': 'Rock', 'title': 'Endure', 'url': 'https://pitchfork.com/reviews/albums/special-interest-endure/'}\n"
     ]
    }
   ],
   "source": [
    "albums = []\n",
    "for album_container in album_container_list:\n",
    "    album = {}\n",
    "\n",
    "    album_url = album_container.find(\"a\", \"review__link\", href=True)\n",
    "    album_title = album_container.find(\"h2\", \"review__title-album\").text\n",
    "    album_artist = album_container.find(\"ul\", \"review__title-artist\").text\n",
    "    album_authors = album_container.find(\"ul\", \"authors\").text.split(\": \")\n",
    "    album_genre = album_container.find(\"li\", \"genre-list__item\").text\n",
    "    album_review_date = album_container.find(\"time\", \"pub-date\")['datetime']\n",
    "\n",
    "    #print(album_review_date)\n",
    "\n",
    "    album['artist'] = album_artist\n",
    "\n",
    "    if(len(album_authors) == 1):\n",
    "        album['authors'] = album_authors[0]\n",
    "    elif(len(album_authors) == 2):\n",
    "        album['authors'] = album_authors[1]\n",
    "\n",
    "    album['datetime'] = album_review_date\n",
    "    album['genre'] = album_genre\n",
    "    album['title'] = album_title\n",
    "    album['url'] = \"\" + base_url + album_url['href']\n",
    "\n",
    "    review_soup = BeautifulSoup(requests.get(album['url']).text, 'html.parser')\n",
    "    \n",
    "    #print(review_soup.prettify())\n",
    "    album_score = review_soup.find(\"p\", 'BaseWrap-sc-UrHlS BaseText-fFrHpW Rating-cIWDua boMZdO ehZJoO ixrqwp') #ScoreCircle-cIILhI hUIQbu\n",
    "\n",
    "    print(album_score)\n",
    "\n",
    "    print(album)\n",
    "\n"
   ]
  },
  {
   "cell_type": "code",
   "execution_count": null,
   "metadata": {},
   "outputs": [],
   "source": []
  }
 ],
 "metadata": {
  "kernelspec": {
   "display_name": "Python 3 (ipykernel)",
   "language": "python",
   "name": "python3"
  },
  "language_info": {
   "codemirror_mode": {
    "name": "ipython",
    "version": 3
   },
   "file_extension": ".py",
   "mimetype": "text/x-python",
   "name": "python",
   "nbconvert_exporter": "python",
   "pygments_lexer": "ipython3",
   "version": "3.9.12"
  },
  "vscode": {
   "interpreter": {
    "hash": "ae80eaa32a53a41e7ad388772b2b50e61717a918d41c1289459a7c68f0e9ec48"
   }
  }
 },
 "nbformat": 4,
 "nbformat_minor": 4
}

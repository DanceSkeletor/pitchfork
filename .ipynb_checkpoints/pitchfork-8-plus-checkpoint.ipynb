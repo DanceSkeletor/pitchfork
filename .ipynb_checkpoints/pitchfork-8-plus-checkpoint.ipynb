{
 "cells": [
  {
   "cell_type": "markdown",
   "metadata": {},
   "source": [
    "# Webscraping from Pitchfork"
   ]
  },
  {
   "cell_type": "markdown",
   "metadata": {},
   "source": [
    "In this project we are going to scrape information about the album reviews on Pitchfork.com"
   ]
  },
  {
   "cell_type": "code",
   "execution_count": 21,
   "metadata": {},
   "outputs": [],
   "source": [
    "import pandas as pd\n",
    "import os\n",
    "import io\n",
    "import matplotlib.pyplot as plt\n",
    "import requests\n",
    "import numpy as np\n",
    "from bs4 import BeautifulSoup"
   ]
  },
  {
   "cell_type": "code",
   "execution_count": 22,
   "metadata": {},
   "outputs": [],
   "source": [
    "base_url = \"https://pitchfork.com\"\n",
    "section_url = \"/best/high-scoring-albums/\"\n",
    "album_url = \"\"\n",
    "\n",
    "start_page = 1\n",
    "end_page = 3"
   ]
  },
  {
   "cell_type": "code",
   "execution_count": 23,
   "metadata": {},
   "outputs": [],
   "source": [
    "#print(html_soup.prettify())"
   ]
  },
  {
   "cell_type": "code",
   "execution_count": 25,
   "metadata": {},
   "outputs": [
    {
     "name": "stdout",
     "output_type": "stream",
     "text": [
      "{'artist': 'The Roches', 'authors': 'Andy Cush', 'datetime': '2022-11-27T05:00:00', 'genre': 'Folk/Country', 'title': 'The Roches\\xa0', 'url': 'https://pitchfork.com/reviews/albums/the-roches-the-roches/', 'score': '9.5'}\n",
      "{'artist': '$ilkMoney', 'authors': 'Dylan Green', 'datetime': '2022-11-23T05:00:00', 'genre': 'Rap', 'title': 'I Don’t Give a Fuck About This Rap Shit, Imma Just Drop Until I Don’t Feel Like It Anymore', 'url': 'https://pitchfork.com/reviews/albums/silkmoney-i-dont-give-a-fuck-about-this-rap-shit-imma-just-drop-until-i-dont-feel-like-it-anymore/', 'score': '8.4'}\n",
      "{'artist': 'Living Colour', 'authors': 'Stuart Berman', 'datetime': '2022-11-20T05:00:00', 'genre': 'Rock', 'title': 'Vivid', 'url': 'https://pitchfork.com/reviews/albums/living-colour-vivid/', 'score': '9.0'}\n",
      "{'artist': 'The Menzingers', 'authors': 'Anna Gaca', 'datetime': '2022-11-19T05:00:00', 'genre': 'Rock', 'title': 'On the Impossible Past (10th Anniversary Edition)', 'url': 'https://pitchfork.com/reviews/albums/the-menzingers-on-the-impossible-past-10th-anniversary-edition/', 'score': '8.0'}\n",
      "{'artist': 'Weyes Blood', 'authors': 'Andy Cush', 'datetime': '2022-11-18T05:04:00', 'genre': 'Rock', 'title': 'And in the Darkness, Hearts Aglow\\xa0', 'url': 'https://pitchfork.com/reviews/albums/weyes-blood-and-in-the-darkness-hearts-aglow/', 'score': '8.4'}\n",
      "{'artist': 'Duval Timothy', 'authors': 'Philip Sherburne', 'datetime': '2022-11-17T05:03:00', 'genre': 'Experimental', 'title': 'Meeting With a Judas Tree', 'url': 'https://pitchfork.com/reviews/albums/duval-timothy-meeting-with-a-judas-tree/', 'score': '8.0'}\n",
      "{'artist': 'Dream Unending', 'authors': 'Sam Sodomsky', 'datetime': '2022-11-15T05:03:00', 'genre': 'Metal', 'title': 'Song of Salvation', 'url': 'https://pitchfork.com/reviews/albums/dream-unending-song-of-salvation/', 'score': '8.5'}\n",
      "{'artist': 'CEO Trayle', 'authors': 'Alphonse Pierre', 'datetime': '2022-11-14T05:03:00', 'genre': 'Rap', 'title': 'HH5', 'url': 'https://pitchfork.com/reviews/albums/ceo-trayle-hh5/', 'score': '8.3'}\n",
      "{'artist': 'John Mellencamp', 'authors': 'Stephen Thomas Erlewine', 'datetime': '2022-11-14T05:02:00', 'genre': 'Rock', 'title': 'Scarecrow (Deluxe Edition)', 'url': 'https://pitchfork.com/reviews/albums/john-mellencamp-scarecrow-deluxe-edition/', 'score': '8.1'}\n",
      "{'artist': 'Jeff Parker', 'authors': 'Daniel Felsenthal', 'datetime': '2022-11-12T05:00:00', 'genre': 'Jazz', 'title': 'Mondays at the Enfield Tennis Academy', 'url': 'https://pitchfork.com/reviews/albums/jeff-parker-mondays-at-the-enfield-tennis-academy/', 'score': '8.4'}\n",
      "{'artist': 'Dawn RichardSpencer Zahn', 'authors': 'Sam Goldner', 'datetime': '2022-11-09T05:03:00', 'genre': 'Pop/R&B', 'title': 'Pigments', 'url': 'https://pitchfork.com/reviews/albums/dawn-richard-spencer-zahn-pigments/', 'score': '8.3'}\n",
      "{'artist': 'Sigur Rós', 'authors': 'Brian Howe', 'datetime': '2022-11-05T04:00:00', 'genre': 'Rock', 'title': '( ) 20th Anniversary Edition', 'url': 'https://pitchfork.com/reviews/albums/sigur-ros-untitled/', 'score': '8.2'}\n",
      "{'artist': 'Special Interest', 'authors': 'Sasha Geffen', 'datetime': '2022-11-04T04:03:00', 'genre': 'Rock', 'title': 'Endure', 'url': 'https://pitchfork.com/reviews/albums/special-interest-endure/', 'score': '8.8'}\n",
      "{'artist': 'Theo Parrish', 'authors': 'Piotr Orlov', 'datetime': '2022-10-29T04:00:00', 'genre': 'Electronic', 'title': 'DJ-Kicks: Theo Parrish', 'url': 'https://pitchfork.com/reviews/albums/theo-parrish-dj-kicks-theo-parrish/', 'score': '8.0'}\n",
      "{'artist': 'Mabe Fratti', 'authors': 'Philip Sherburne', 'datetime': '2022-10-25T04:03:00', 'genre': 'Experimental', 'title': 'Se Ve Desde Aquí', 'url': 'https://pitchfork.com/reviews/albums/mabe-fratti-se-ve-desde-aqui/', 'score': '8.3'}\n",
      "{'artist': 'Soft Cell', 'authors': 'Eric Torres', 'datetime': '2022-10-23T04:00:00', 'genre': 'Electronic', 'title': 'Non-Stop Erotic Cabaret', 'url': 'https://pitchfork.com/reviews/albums/soft-cell-non-stop-erotic-cabaret/', 'score': '8.5'}\n",
      "{'artist': 'The Libertines', 'authors': 'Ben Cardew', 'datetime': '2022-10-22T04:00:00', 'genre': 'Rock', 'title': 'Up the Bracket (20th Anniversary Edition)', 'url': 'https://pitchfork.com/reviews/albums/the-libertines-up-the-bracket-20th-anniversary-edition/', 'score': '8.5'}\n",
      "{'artist': 'Mavi', 'authors': 'Paul A. Thompson', 'datetime': '2022-10-21T04:04:00', 'genre': 'Rap', 'title': 'Laughing so Hard, it Hurts', 'url': 'https://pitchfork.com/reviews/albums/mavi-laughing-so-hard-it-hurts/', 'score': '8.2'}\n",
      "{'artist': 'Arctic Monkeys', 'authors': 'Matthew Strauss', 'datetime': '2022-10-20T04:03:00', 'genre': 'Rock', 'title': 'The Car', 'url': 'https://pitchfork.com/reviews/albums/arctic-monkeys-the-car/', 'score': '8.0'}\n",
      "{'artist': 'Plains', 'authors': 'Claire Shaffer', 'datetime': '2022-10-19T04:03:00', 'genre': 'Folk/Country', 'title': 'I Walked With You a Ways', 'url': 'https://pitchfork.com/reviews/albums/plains-i-walked-with-you-a-ways/', 'score': '8.0'}\n",
      "{'artist': 'Palm', 'authors': 'Rob Arcand', 'datetime': '2022-10-17T04:02:00', 'genre': 'Rock', 'title': 'Nicks and Grazes\\xa0', 'url': 'https://pitchfork.com/reviews/albums/palm-nicks-and-grazes/', 'score': '8.0'}\n",
      "{'artist': 'Against Me!', 'authors': 'Sasha Geffen', 'datetime': '2022-10-16T04:00:00', 'genre': 'Rock', 'title': 'Reinventing Axl Rose', 'url': 'https://pitchfork.com/reviews/albums/against-me-reinventing-axl-rose/', 'score': '8.6'}\n",
      "{'artist': 'Janet Jackson', 'authors': 'Rich Juzwiak', 'datetime': '2022-10-15T04:00:00', 'genre': 'Pop/R&B', 'title': 'The Velvet Rope (Deluxe Edition)', 'url': 'https://pitchfork.com/reviews/albums/janet-jackson-the-velvet-rope-deluxe-edition/', 'score': '9.4'}\n",
      "{'artist': 'The 1975', 'authors': 'Brady Brickner-Wood', 'datetime': '2022-10-14T04:03:00', 'genre': 'Rock', 'title': 'Being Funny in a Foreign Language', 'url': 'https://pitchfork.com/reviews/albums/the-1975-being-funny-in-a-foreign-language/', 'score': '8.0'}\n",
      "{'artist': 'Lucrecia Dalt', 'authors': 'Isabelia Herrera', 'datetime': '2022-10-13T04:03:00', 'genre': 'Experimental', 'title': '¡Ay!', 'url': 'https://pitchfork.com/reviews/albums/lucrecia-dalt-ay/', 'score': '8.6'}\n",
      "{'artist': 'Gilla Band', 'authors': 'Laura Snapes', 'datetime': '2022-10-11T04:03:00', 'genre': 'Rock', 'title': 'Most Normal', 'url': 'https://pitchfork.com/reviews/albums/gilla-band-most-normal/', 'score': '8.4'}\n",
      "{'artist': 'Daphni', 'authors': 'Philip Sherburne', 'datetime': '2022-10-10T04:03:00', 'genre': 'Electronic', 'title': 'Cherry', 'url': 'https://pitchfork.com/reviews/albums/daphni-cherry/', 'score': '8.2'}\n",
      "{'artist': 'Wu-Tang Clan', 'authors': 'Dylan Green', 'datetime': '2022-10-09T04:04:00', 'genre': 'Rap', 'title': 'Enter the Wu-Tang (36 Chambers)', 'url': 'https://pitchfork.com/reviews/albums/wu-tang-clan-enter-the-wu-tang-36-chambers/', 'score': '10'}\n",
      "{'artist': 'Wu-Tang Clan', 'authors': 'Alphonse Pierre', 'datetime': '2022-10-09T04:03:00', 'genre': 'Rap', 'title': 'Wu-Tang Forever', 'url': 'https://pitchfork.com/reviews/albums/wu-tang-clan-wu-tang-forever/', 'score': '8.3'}\n",
      "{'artist': 'Method Man', 'authors': 'Stephen Kearse', 'datetime': '2022-10-09T04:02:00', 'genre': 'Rap', 'title': 'Tical', 'url': 'https://pitchfork.com/reviews/albums/method-man-tical/', 'score': '8.4'}\n",
      "{'artist': 'Ghostface Killah', 'authors': 'Paul A. Thompson', 'datetime': '2022-10-09T04:01:00', 'genre': 'Rap', 'title': 'Ironman', 'url': 'https://pitchfork.com/reviews/albums/ghostface-killah-ironman/', 'score': '9.4'}\n",
      "{'artist': 'RZA', 'authors': 'Jayson Greene', 'datetime': '2022-10-09T04:00:00', 'genre': 'Rap', 'title': 'Ghost Dog: The Way of the Samurai', 'url': 'https://pitchfork.com/reviews/albums/rza-ghost-dog-the-way-of-the-samurai/', 'score': '8.5'}\n",
      "{'artist': 'Yoko OnoPlastic Ono Band', 'authors': 'Owen Myers ', 'datetime': '2022-10-08T04:00:00', 'genre': 'Experimental', 'title': 'Let’s Have a Dream (1974 One Step Festival)', 'url': 'https://pitchfork.com/reviews/albums/yoko-ono-lets-have-a-dream-1974-one-step-festival/', 'score': '8.0'}\n",
      "{'artist': 'Alvvays', 'authors': 'Jeremy D. Larson', 'datetime': '2022-10-07T04:04:00', 'genre': 'Rock', 'title': 'Blue Rev', 'url': 'https://pitchfork.com/reviews/albums/alvvays-blue-rev/', 'score': '8.8'}\n",
      "{'artist': 'Shygirl ', 'authors': 'Cameron Cook', 'datetime': '2022-10-06T04:03:00', 'genre': 'Electronic', 'title': 'Nymph', 'url': 'https://pitchfork.com/reviews/albums/shygirl-nymph/', 'score': '8.0'}\n",
      "{'artist': 'Oren Ambarchi', 'authors': 'Philip Sherburne', 'datetime': '2022-10-04T04:03:00', 'genre': 'Experimental', 'title': 'Shebang', 'url': 'https://pitchfork.com/reviews/albums/oren-ambarchi-shebang/', 'score': '8.1'}\n"
     ]
    }
   ],
   "source": [
    "albums = []\n",
    "for page in range(start_page, end_page + 1):\n",
    "    html_content = requests.get(base_url + section_url + \"?page=\" + str(page)).text\n",
    "    html_soup = BeautifulSoup(html_content, 'html.parser')\n",
    "    \n",
    "    album_container_list = html_soup.find_all('div', 'review')\n",
    "    \n",
    "    for album_container in album_container_list:\n",
    "        album = {}\n",
    "\n",
    "        album_url = album_container.find(\"a\", \"review__link\", href=True)\n",
    "        album_title = album_container.find(\"h2\", \"review__title-album\").text\n",
    "        album_artist = album_container.find(\"ul\", \"review__title-artist\").text\n",
    "        album_authors = album_container.find(\"ul\", \"authors\").text.split(\": \")\n",
    "        album_genre = album_container.find(\"li\", \"genre-list__item\").text\n",
    "        album_review_date = album_container.find(\"time\", \"pub-date\")['datetime']\n",
    "\n",
    "        #print(album_review_date)\n",
    "\n",
    "        album['artist'] = album_artist\n",
    "\n",
    "        if(len(album_authors) == 1):\n",
    "            album['authors'] = album_authors[0]\n",
    "        elif(len(album_authors) == 2):\n",
    "            album['authors'] = album_authors[1]\n",
    "\n",
    "        album['datetime'] = album_review_date\n",
    "        album['genre'] = album_genre\n",
    "        album['title'] = album_title\n",
    "        album['url'] = \"\" + base_url + album_url['href']\n",
    "\n",
    "        review_soup = BeautifulSoup(requests.get(album['url']).text, 'html.parser')\n",
    "        album_score = review_soup.find(\"p\", 'BaseWrap-sc-UrHlS').text \n",
    "\n",
    "        album['score'] = album_score\n",
    "\n",
    "        #print(album_score)\n",
    "        albums.append(album)\n",
    "        print(album)\n",
    "\n"
   ]
  },
  {
   "cell_type": "code",
   "execution_count": 26,
   "metadata": {},
   "outputs": [
    {
     "data": {
      "text/plain": [
       "36"
      ]
     },
     "execution_count": 26,
     "metadata": {},
     "output_type": "execute_result"
    }
   ],
   "source": [
    "len(albums)"
   ]
  },
  {
   "cell_type": "code",
   "execution_count": null,
   "metadata": {},
   "outputs": [],
   "source": []
  }
 ],
 "metadata": {
  "kernelspec": {
   "display_name": "Python 3 (ipykernel)",
   "language": "python",
   "name": "python3"
  },
  "language_info": {
   "codemirror_mode": {
    "name": "ipython",
    "version": 3
   },
   "file_extension": ".py",
   "mimetype": "text/x-python",
   "name": "python",
   "nbconvert_exporter": "python",
   "pygments_lexer": "ipython3",
   "version": "3.9.12"
  },
  "vscode": {
   "interpreter": {
    "hash": "ae80eaa32a53a41e7ad388772b2b50e61717a918d41c1289459a7c68f0e9ec48"
   }
  }
 },
 "nbformat": 4,
 "nbformat_minor": 4
}
